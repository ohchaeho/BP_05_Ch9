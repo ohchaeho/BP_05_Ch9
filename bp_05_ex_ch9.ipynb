{
  "nbformat": 4,
  "nbformat_minor": 0,
  "metadata": {
    "colab": {
      "provenance": [],
      "authorship_tag": "ABX9TyN3thVvbHVq6Pv58JwD4+Ev",
      "include_colab_link": true
    },
    "kernelspec": {
      "name": "python3",
      "display_name": "Python 3"
    },
    "language_info": {
      "name": "python"
    }
  },
  "cells": [
    {
      "cell_type": "markdown",
      "metadata": {
        "id": "view-in-github",
        "colab_type": "text"
      },
      "source": [
        "<a href=\"https://colab.research.google.com/github/ohchaeho/BP_05_Ch9/blob/main/bp_05_ex_ch9.ipynb\" target=\"_parent\"><img src=\"https://colab.research.google.com/assets/colab-badge.svg\" alt=\"Open In Colab\"/></a>"
      ]
    },
    {
      "cell_type": "markdown",
      "source": [
        "1. 사용자로부터 5개의 숫자를 읽어서 리스트에 저장하고 숫자들의 평균을 계산하여 출력하는 프로그램을 작성해보자."
      ],
      "metadata": {
        "id": "lO-RAtY1cleA"
      }
    },
    {
      "cell_type": "code",
      "source": [
        "alist = []\n",
        "sum = 0\n",
        "\n",
        "for i in range(5):\n",
        "  i = int(input(\"정수를 입력하시오: \"))\n",
        "  alist.append(i)\n",
        "\n",
        "for i in alist:\n",
        "  sum += i\n",
        "\n",
        "avg = sum/len(alist)\n",
        "print(\"평균=\", avg)"
      ],
      "metadata": {
        "colab": {
          "base_uri": "https://localhost:8080/"
        },
        "id": "TeqlBCn7ctex",
        "outputId": "f41a6ab6-533d-4ee3-ff99-f298af737a55"
      },
      "execution_count": null,
      "outputs": [
        {
          "output_type": "stream",
          "name": "stdout",
          "text": [
            "정수를 입력하시오: 10\n",
            "정수를 입력하시오: 20\n",
            "정수를 입력하시오: 30\n",
            "정수를 입력하시오: 40\n",
            "정수를 입력하시오: 50\n",
            "평균= 30.0\n"
          ]
        }
      ]
    },
    {
      "cell_type": "markdown",
      "source": [
        "2. 주사위를 던져서 나오는 값들의 빈도를 계산하는 프로그램을 작성해보자. 즉 1, 2, 3, 4, 5, 6의 값이 각각 몇 번이나 나오는지를 계산한다. 난수 밸생 함수와 리스트를 사용해보자."
      ],
      "metadata": {
        "id": "FH9hYcIRc5J9"
      }
    },
    {
      "cell_type": "code",
      "execution_count": null,
      "metadata": {
        "colab": {
          "base_uri": "https://localhost:8080/"
        },
        "id": "6UJmS8dEcfNu",
        "outputId": "84cb0003-f97f-4ffd-bc88-5c0b7630e7a5"
      },
      "outputs": [
        {
          "output_type": "stream",
          "name": "stdout",
          "text": [
            "주사위가  1 인 경우는  172 번\n",
            "주사위가  2 인 경우는  162 번\n",
            "주사위가  3 인 경우는  178 번\n",
            "주사위가  4 인 경우는  173 번\n",
            "주사위가  5 인 경우는  155 번\n",
            "주사위가  6 인 경우는  160 번\n"
          ]
        }
      ],
      "source": [
        "import random\n",
        "counters = [0, 0, 0, 0, 0, 0]\n",
        "\n",
        "for i in range(1000):\n",
        "  value = random.randint(0, 5)\n",
        "  counters[value] = counters[value] + 1\n",
        "\n",
        "\n",
        "for i in range(6) :\n",
        "  print(\"주사위가 \", i+1, \"인 경우는 \", counters[i], \"번\")"
      ]
    },
    {
      "cell_type": "markdown",
      "source": [
        "3. 딕셔너리를 사용하여서 친구들의 이름과 전화번호를 저장해보자. 사용자로부터 친구들의 이름과 전화번호를 입력받고 딕셔너리에 저장한다. 이름을 입력하지 않고 엔터기를 치면 검색모드가 된다. 검색 모드에서는 친구들의 이름으로 전화번호를 검색할 수 있도록 한다."
      ],
      "metadata": {
        "id": "qh1LlTWaeCVA"
      }
    },
    {
      "cell_type": "code",
      "source": [
        "contacts = { }\n",
        "\n",
        "while True:\n",
        "  name = input(\"(입력모드)이름을 입력하시오: \")\n",
        "  if not name:\n",
        "         break;\n",
        "    tel = input(\"전화번호를 입력하시오: \")\n",
        "    contacts[name] = tel\n",
        "\n",
        "while True:\n",
        "  name = input(\"(검색모드)이름을 입력하시오: \")\n",
        "  if not name:\n",
        "         break;\n",
        "  if name in contacts :\n",
        "      print(name, \"의 전화번호는\", contacts[name], \"입니다.\")\n",
        "\n",
        "  else:"
      ],
      "metadata": {
        "colab": {
          "base_uri": "https://localhost:8080/",
          "height": 137
        },
        "id": "ov8jLRD4eba-",
        "outputId": "6c513ba6-a379-4f07-989d-62a112a26537"
      },
      "execution_count": null,
      "outputs": [
        {
          "output_type": "error",
          "ename": "IndentationError",
          "evalue": "ignored",
          "traceback": [
            "\u001b[0;36m  File \u001b[0;32m\"<tokenize>\"\u001b[0;36m, line \u001b[0;32m7\u001b[0m\n\u001b[0;31m    tel = input(\"전화번호를 입력하시오: \")\u001b[0m\n\u001b[0m    ^\u001b[0m\n\u001b[0;31mIndentationError\u001b[0m\u001b[0;31m:\u001b[0m unindent does not match any outer indentation level\n"
          ]
        }
      ]
    },
    {
      "cell_type": "markdown",
      "source": [
        "4. 색상을 리스트에 저장한다. 리스트에 저장된 색상을 하나씩 꺼내어 거북이의 색상으로 설정하면서 속이 채워진 사각형을 그리는 프로그램을 작성해보자."
      ],
      "metadata": {
        "id": "7NiAS3hYfWtH"
      }
    },
    {
      "cell_type": "markdown",
      "source": [
        "5. 색상을 리스트에 저장한다. 리스트에 저장된 색상을 하나씩 꺼내어 거북이의 색상으로 설정하면서 속이 채워진 다각형을 그리는 프로그램을 작성해보자."
      ],
      "metadata": {
        "id": "-zNk2PGSg4CN"
      }
    },
    {
      "cell_type": "markdown",
      "source": [
        "6. 색상을 리스트에 저장한다. 리스트에 저장된 색상을 하나씩 꺼내어 거북이의 색상으로 설정하면서 속이 채워진 별을랜덤한 위치에 그리는 프로그램을 작성해보자."
      ],
      "metadata": {
        "id": "qGzaCiJChFHl"
      }
    },
    {
      "cell_type": "markdown",
      "source": [],
      "metadata": {
        "id": "-otMKI8ihPUk"
      }
    },
    {
      "cell_type": "markdown",
      "source": [
        "7. 인터넷 도메인의 약자와 해당되는 국가를 딕셔너리에 저장해보자. 예를 들어서\"kr\"은 대한민국으로 저장되어야 한다. 딕셔너리를 순회하면서 모든 키와 값을 출력하는 프로그램을 작성해보자."
      ],
      "metadata": {
        "id": "0vFGf0GzhPZ-"
      }
    },
    {
      "cell_type": "code",
      "source": [
        "domains = { \"kr\": \"대한민국\", \"us\": \"미국\",\"jp\": \"일본\", \"de\": \"독일\", \"sk\": \"슬로바키아\", \"hu\": \"헝가리\", \"no\": \"노르웨이\" }\n",
        "\n",
        "for k, v in domains.items():\n",
        "  print (k, \": \", v)"
      ],
      "metadata": {
        "colab": {
          "base_uri": "https://localhost:8080/"
        },
        "id": "055AdYTFhcmw",
        "outputId": "1fd867db-ea8e-44e9-9fd1-1d7b3c7a8b3d"
      },
      "execution_count": null,
      "outputs": [
        {
          "output_type": "stream",
          "name": "stdout",
          "text": [
            "kr :  대한민국\n",
            "us :  미국\n",
            "jp :  일본\n",
            "de :  독일\n",
            "sk :  슬로바키아\n",
            "hu :  헝가리\n",
            "no :  노르웨이\n"
          ]
        }
      ]
    },
    {
      "cell_type": "markdown",
      "source": [
        "8. 딕셔너리에 문제와 정답을 저장하고 하나씩 꺼내어 사용자에게 제시하는 프로그램을 작성해보자. 사용자는 문자열로 답해야 한다. 번호로 답할 수는 없다.\n"
      ],
      "metadata": {
        "id": "ZDVr4cJRhmYd"
      }
    },
    {
      "cell_type": "code",
      "source": [
        "problems = {'파이썬': '최근에 가장 떠오르는 프로그래밍 언어',\n",
        "'변수': '데이터를 저장하는 메모리 공간',\n",
        "'함수': '작업을 수행하는 문장들의 집합에 이름을 붙인것',\n",
        "'리스트': '서로 관련이 없는 항목들의 모임',}\n",
        "\n",
        "def show_words(problems):\n",
        "  display_message = \"\"\n",
        "  i=1\n",
        "  for word in problems.keys():\n",
        "    display_message += \"(\"+str(i)+\")\"\n",
        "    display_message += word + \" \"\n",
        "    i+=1\n",
        "    print( display_message)\n",
        "\n",
        "for meaning in problems.values():\n",
        "  print(\"다음은 어떤 단어에 대한 설명일까요? \")\n",
        "  print(\"\\\"\"+meaning+\"\\\"\")\n",
        "  correct = False\n",
        "  while not correct:\n",
        "    show_words(problems)\n",
        "    guessed_word = input(\"\")\n",
        "    if problems[guessed_word] == meaning:\n",
        "      print(\"정답입니다. !\")\n",
        "    correct = True\n",
        "\n",
        "else:\n",
        "      print(\"정답이 아닙니다.\")"
      ],
      "metadata": {
        "colab": {
          "base_uri": "https://localhost:8080/"
        },
        "id": "h2ijE-hYh0q1",
        "outputId": "7afd02ae-3c54-44c9-9c9f-5756608a5a79"
      },
      "execution_count": null,
      "outputs": [
        {
          "output_type": "stream",
          "name": "stdout",
          "text": [
            "다음은 어떤 단어에 대한 설명일까요? \n",
            "\"최근에 가장 떠오르는 프로그래밍 언어\"\n",
            "(1)파이썬 \n",
            "(1)파이썬 (2)변수 \n",
            "(1)파이썬 (2)변수 (3)함수 \n",
            "(1)파이썬 (2)변수 (3)함수 (4)리스트 \n",
            "파이썬\n",
            "정답입니다. !\n",
            "다음은 어떤 단어에 대한 설명일까요? \n",
            "\"데이터를 저장하는 메모리 공간\"\n",
            "(1)파이썬 \n",
            "(1)파이썬 (2)변수 \n",
            "(1)파이썬 (2)변수 (3)함수 \n",
            "(1)파이썬 (2)변수 (3)함수 (4)리스트 \n",
            "리스트\n",
            "다음은 어떤 단어에 대한 설명일까요? \n",
            "\"작업을 수행하는 문장들의 집합에 이름을 붙인것\"\n",
            "(1)파이썬 \n",
            "(1)파이썬 (2)변수 \n",
            "(1)파이썬 (2)변수 (3)함수 \n",
            "(1)파이썬 (2)변수 (3)함수 (4)리스트 \n",
            "함수\n",
            "정답입니다. !\n",
            "다음은 어떤 단어에 대한 설명일까요? \n",
            "\"서로 관련이 없는 항목들의 모임\"\n",
            "(1)파이썬 \n",
            "(1)파이썬 (2)변수 \n",
            "(1)파이썬 (2)변수 (3)함수 \n",
            "(1)파이썬 (2)변수 (3)함수 (4)리스트 \n",
            "변수\n",
            "정답이 아닙니다.\n"
          ]
        }
      ]
    },
    {
      "cell_type": "markdown",
      "source": [],
      "metadata": {
        "id": "CUuzZK5ojAnW"
      }
    }
  ]
}